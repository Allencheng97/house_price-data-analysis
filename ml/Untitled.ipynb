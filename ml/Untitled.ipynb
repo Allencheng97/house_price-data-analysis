{
 "cells": [
  {
   "cell_type": "code",
   "execution_count": 23,
   "metadata": {},
   "outputs": [],
   "source": [
    "import pandas as pd\n",
    "from sklearn.cluster import KMeans\n",
    "import numpy as np\n",
    "import pandas as pd\n",
    "import plotly.graph_objs as go\n",
    "import dash\n",
    "import dash_core_components as dcc                  # 交互式组件\n",
    "import dash_html_components as html                 # 代码转html\n",
    "from dash.dependencies import Input, Output         # 回调\n",
    "from jupyter_plotly_dash import JupyterDash\n",
    "from sklearn.cluster import KMeans\n",
    "import numpy as np"
   ]
  },
  {
   "cell_type": "code",
   "execution_count": 2,
   "metadata": {},
   "outputs": [],
   "source": [
    "records = pd.read_csv('data-utf8-loc.csv')\n",
    "df = pd.DataFrame(records)"
   ]
  },
  {
   "cell_type": "code",
   "execution_count": 3,
   "metadata": {},
   "outputs": [],
   "source": [
    "from sklearn import preprocessing\n",
    "from sklearn.model_selection import train_test_split"
   ]
  },
  {
   "cell_type": "code",
   "execution_count": 4,
   "metadata": {},
   "outputs": [],
   "source": [
    "le = preprocessing.LabelEncoder()"
   ]
  },
  {
   "cell_type": "code",
   "execution_count": 5,
   "metadata": {},
   "outputs": [],
   "source": [
    "X1=le.fit(df['district'].unique()).transform(df['district']) #X1表示房屋所在区\n",
    "X2=le.fit(df['house_type'].unique()).transform(df['house_type']) #X2表示房屋的户型"
   ]
  },
  {
   "cell_type": "code",
   "execution_count": 6,
   "metadata": {},
   "outputs": [],
   "source": [
    "X3=df['area']  #X3表示房屋的面积\n",
    "X4=le.fit(df['fixture'].unique()).transform(df['fixture'])"
   ]
  },
  {
   "cell_type": "code",
   "execution_count": 9,
   "metadata": {},
   "outputs": [],
   "source": [
    "X5=le.fit(df['elevator_exist'].unique()).transform(df['elevator_exist']) #X5表示房屋有无电梯\n",
    "X6=le.fit(df['xiaoqu'].unique()).transform(df['xiaoqu']) \n",
    "X7=le.fit(df['weizhi'].unique()).transform(df['weizhi'])"
   ]
  },
  {
   "cell_type": "code",
   "execution_count": 10,
   "metadata": {},
   "outputs": [],
   "source": [
    "X=np.mat([X1,X2,X3,X4,X5,X6,X7]).T"
   ]
  },
  {
   "cell_type": "code",
   "execution_count": 11,
   "metadata": {},
   "outputs": [],
   "source": [
    "Y=df['unit_price']"
   ]
  },
  {
   "cell_type": "code",
   "execution_count": 12,
   "metadata": {},
   "outputs": [
    {
     "name": "stdout",
     "output_type": "stream",
     "text": [
      "(14396, 7)\n"
     ]
    }
   ],
   "source": [
    "print (np.array(X).shape)"
   ]
  },
  {
   "cell_type": "code",
   "execution_count": 13,
   "metadata": {},
   "outputs": [
    {
     "data": {
      "text/plain": [
       "matrix([[0.000e+00, 2.200e+01, 8.900e+01, ..., 1.000e+00, 3.940e+02,\n",
       "         3.000e+00],\n",
       "        [0.000e+00, 4.000e+00, 3.330e+01, ..., 1.000e+00, 7.300e+02,\n",
       "         3.000e+01],\n",
       "        [0.000e+00, 4.500e+01, 1.210e+02, ..., 0.000e+00, 1.236e+03,\n",
       "         3.000e+01],\n",
       "        ...,\n",
       "        [4.000e+00, 2.200e+01, 9.100e+01, ..., 0.000e+00, 8.050e+02,\n",
       "         2.500e+01],\n",
       "        [4.000e+00, 2.700e+01, 8.500e+01, ..., 1.000e+00, 1.470e+02,\n",
       "         2.500e+01],\n",
       "        [4.000e+00, 2.200e+01, 6.900e+01, ..., 0.000e+00, 8.830e+02,\n",
       "         2.500e+01]])"
      ]
     },
     "execution_count": 13,
     "metadata": {},
     "output_type": "execute_result"
    }
   ],
   "source": [
    "X"
   ]
  },
  {
   "cell_type": "code",
   "execution_count": 14,
   "metadata": {},
   "outputs": [],
   "source": [
    "X_train,X_test,Y_train,Y_test= train_test_split(X,Y,test_size=0.1, random_state=0)"
   ]
  },
  {
   "cell_type": "code",
   "execution_count": 15,
   "metadata": {},
   "outputs": [
    {
     "data": {
      "text/plain": [
       "0"
      ]
     },
     "execution_count": 15,
     "metadata": {},
     "output_type": "execute_result"
    }
   ],
   "source": [
    "from sklearn.model_selection import RandomizedSearchCV\n",
    "criterion=['mse','mae']\n",
    "n_estimators = [int(x) for x in np.linspace(start = 200, stop = 1200, num = 50)]\n",
    "max_features = ['auto', 'sqrt']\n",
    "max_depth = [int(x) for x in np.linspace(10, 100, num = 10)]\n",
    "max_depth.append(None)\n",
    "min_samples_split = [2, 5, 10]\n",
    "min_samples_leaf = [1, 2, 4]\n",
    "bootstrap = [True, False]\n",
    "random_grid = {'criterion':criterion,\n",
    "                'n_estimators': n_estimators,\n",
    "               'max_features': max_features,\n",
    "               'max_depth': max_depth,\n",
    "               'min_samples_split': min_samples_split,\n",
    "               'min_samples_leaf': min_samples_leaf,\n",
    "               'bootstrap': bootstrap}\n"
   ]
  },
  {
   "cell_type": "code",
   "execution_count": 16,
   "metadata": {},
   "outputs": [],
   "source": [
    "from sklearn.ensemble import RandomForestRegressor\n"
   ]
  },
  {
   "cell_type": "code",
   "execution_count": 17,
   "metadata": {},
   "outputs": [],
   "source": [
    "clf= RandomForestRegressor()"
   ]
  },
  {
   "cell_type": "code",
   "execution_count": 18,
   "metadata": {},
   "outputs": [],
   "source": [
    "clf_random = RandomizedSearchCV(estimator=clf, param_distributions=random_grid,\n",
    "                              n_iter = 10,  \n",
    "                              cv = 3, verbose=2, random_state=42, n_jobs=1)\n"
   ]
  },
  {
   "cell_type": "code",
   "execution_count": 20,
   "metadata": {},
   "outputs": [
    {
     "name": "stdout",
     "output_type": "stream",
     "text": [
      "变量重要性： [0.40291331 0.05589718 0.08373913 0.02904377 0.0814192  0.0917413\n",
      " 0.2552461 ]\n"
     ]
    }
   ],
   "source": [
    "from sklearn.ensemble import RandomForestRegressor\n",
    "from pyecharts.charts.basic_charts import bar\n",
    "\n",
    "#{'n_estimators': 506, 'min_samples_split': 10, 'min_samples_leaf': 4, 'max_features': 'sqrt', 'max_depth': 70, 'criterion': 'mse', 'bootstrap': True}\n",
    "rf=RandomForestRegressor(criterion='mse',bootstrap=True,max_features='sqrt', max_depth=70,min_samples_split=10, n_estimators=506,min_samples_leaf=4)\n",
    "\n",
    "rf.fit(X_train, Y_train) \n",
    "Y_train_pred=rf.predict(X_train)\n",
    "Y_test_pred=rf.predict(X_test)\n",
    "#变量重要性\n",
    "print (\"变量重要性：\",rf.feature_importances_)\n",
    "feature=['所在区','户型','面积','装修','有无电梯','小区名称','所在位置']\n",
    "\n",
    "\n"
   ]
  },
  {
   "cell_type": "code",
   "execution_count": 91,
   "metadata": {},
   "outputs": [],
   "source": [
    "ak='gmWGXazzhusjfBhAXCWX99hRsuf681GC'"
   ]
  },
  {
   "cell_type": "code",
   "execution_count": 7,
   "metadata": {},
   "outputs": [],
   "source": [
    "import requests\n",
    "def getlng(address):\n",
    "    \"\"\"\n",
    "    @ address: 名称字符串\n",
    "    @ 返回值：经度，纬度\n",
    "    \"\"\"\n",
    "    address='山东省威海市'+address\n",
    "    base_url = \"http://api.map.baidu.com/geocoder?address={address}&output=json&key=gmWGXazzhusjfBhAXCWX99hRsuf681GC\".format(address=address)\n",
    "    response = requests.get(base_url)\n",
    "    answer = response.json()\n",
    "    latitude = answer['result']['location']['lng']\n",
    "    longitude = answer['result']['location']['lat']\n",
    "\n",
    "    return [latitude, longitude]"
   ]
  },
  {
   "cell_type": "code",
   "execution_count": 8,
   "metadata": {},
   "outputs": [
    {
     "data": {
      "text/plain": [
       "[116.413384, 39.910925]"
      ]
     },
     "execution_count": 8,
     "metadata": {},
     "output_type": "execute_result"
    }
   ],
   "source": [
    "geocodeB('')"
   ]
  },
  {
   "cell_type": "code",
   "execution_count": 9,
   "metadata": {},
   "outputs": [],
   "source": [
    "df['loc']=None"
   ]
  },
  {
   "cell_type": "code",
   "execution_count": 10,
   "metadata": {},
   "outputs": [
    {
     "data": {
      "text/html": [
       "<div>\n",
       "<style scoped>\n",
       "    .dataframe tbody tr th:only-of-type {\n",
       "        vertical-align: middle;\n",
       "    }\n",
       "\n",
       "    .dataframe tbody tr th {\n",
       "        vertical-align: top;\n",
       "    }\n",
       "\n",
       "    .dataframe thead th {\n",
       "        text-align: right;\n",
       "    }\n",
       "</style>\n",
       "<table border=\"1\" class=\"dataframe\">\n",
       "  <thead>\n",
       "    <tr style=\"text-align: right;\">\n",
       "      <th></th>\n",
       "      <th>house_id</th>\n",
       "      <th>xiaoqu</th>\n",
       "      <th>district</th>\n",
       "      <th>total_price</th>\n",
       "      <th>unit_price</th>\n",
       "      <th>house_type</th>\n",
       "      <th>floor</th>\n",
       "      <th>area</th>\n",
       "      <th>house_struct</th>\n",
       "      <th>in_area</th>\n",
       "      <th>...</th>\n",
       "      <th>last_tradetime</th>\n",
       "      <th>house_use</th>\n",
       "      <th>house_time</th>\n",
       "      <th>owner_attribute</th>\n",
       "      <th>mortage</th>\n",
       "      <th>property_status</th>\n",
       "      <th>villa_type</th>\n",
       "      <th>weizhi</th>\n",
       "      <th>overall_floor</th>\n",
       "      <th>loc</th>\n",
       "    </tr>\n",
       "  </thead>\n",
       "  <tbody>\n",
       "    <tr>\n",
       "      <th>0</th>\n",
       "      <td>103108554235</td>\n",
       "      <td>富山小区</td>\n",
       "      <td>乳山市</td>\n",
       "      <td>358000.0</td>\n",
       "      <td>4023.0</td>\n",
       "      <td>2室1厅1厨1卫</td>\n",
       "      <td>高楼层</td>\n",
       "      <td>89.00</td>\n",
       "      <td>平层</td>\n",
       "      <td>暂无数据</td>\n",
       "      <td>...</td>\n",
       "      <td>暂无数据</td>\n",
       "      <td>普通住宅</td>\n",
       "      <td>暂无数据</td>\n",
       "      <td>非共有</td>\n",
       "      <td>无抵押</td>\n",
       "      <td>未上传房本照片</td>\n",
       "      <td>暂无数据</td>\n",
       "      <td>乳山市</td>\n",
       "      <td>7.0</td>\n",
       "      <td>None</td>\n",
       "    </tr>\n",
       "    <tr>\n",
       "      <th>1</th>\n",
       "      <td>103108538149</td>\n",
       "      <td>海洋明珠</td>\n",
       "      <td>乳山市</td>\n",
       "      <td>108000.0</td>\n",
       "      <td>3244.0</td>\n",
       "      <td>1室0厅1厨1卫</td>\n",
       "      <td>低楼层</td>\n",
       "      <td>33.30</td>\n",
       "      <td>平层</td>\n",
       "      <td>暂无数据</td>\n",
       "      <td>...</td>\n",
       "      <td>暂无数据</td>\n",
       "      <td>普通住宅</td>\n",
       "      <td>暂无数据</td>\n",
       "      <td>非共有</td>\n",
       "      <td>无抵押</td>\n",
       "      <td>未上传房本照片</td>\n",
       "      <td>暂无数据</td>\n",
       "      <td>银滩旅游度假区</td>\n",
       "      <td>26.0</td>\n",
       "      <td>None</td>\n",
       "    </tr>\n",
       "    <tr>\n",
       "      <th>2</th>\n",
       "      <td>103105657894</td>\n",
       "      <td>龙海阳光小区</td>\n",
       "      <td>乳山市</td>\n",
       "      <td>548000.0</td>\n",
       "      <td>4529.0</td>\n",
       "      <td>3室2厅1厨1卫</td>\n",
       "      <td>低楼层</td>\n",
       "      <td>121.00</td>\n",
       "      <td>平层</td>\n",
       "      <td>暂无数据</td>\n",
       "      <td>...</td>\n",
       "      <td>暂无数据</td>\n",
       "      <td>普通住宅</td>\n",
       "      <td>暂无数据</td>\n",
       "      <td>非共有</td>\n",
       "      <td>无抵押</td>\n",
       "      <td>未上传房本照片</td>\n",
       "      <td>暂无数据</td>\n",
       "      <td>银滩旅游度假区</td>\n",
       "      <td>6.0</td>\n",
       "      <td>None</td>\n",
       "    </tr>\n",
       "    <tr>\n",
       "      <th>3</th>\n",
       "      <td>103105816942</td>\n",
       "      <td>爱琴海景西区</td>\n",
       "      <td>乳山市</td>\n",
       "      <td>168000.0</td>\n",
       "      <td>4800.0</td>\n",
       "      <td>1室1厅1厨1卫</td>\n",
       "      <td>低楼层</td>\n",
       "      <td>35.00</td>\n",
       "      <td>平层</td>\n",
       "      <td>暂无数据</td>\n",
       "      <td>...</td>\n",
       "      <td>暂无数据</td>\n",
       "      <td>普通住宅</td>\n",
       "      <td>暂无数据</td>\n",
       "      <td>非共有</td>\n",
       "      <td>无抵押</td>\n",
       "      <td>未上传房本照片</td>\n",
       "      <td>暂无数据</td>\n",
       "      <td>银滩旅游度假区</td>\n",
       "      <td>19.0</td>\n",
       "      <td>None</td>\n",
       "    </tr>\n",
       "    <tr>\n",
       "      <th>4</th>\n",
       "      <td>103105658048</td>\n",
       "      <td>海韵豪庭</td>\n",
       "      <td>乳山市</td>\n",
       "      <td>315000.0</td>\n",
       "      <td>4375.0</td>\n",
       "      <td>2室1厅1厨1卫</td>\n",
       "      <td>低楼层</td>\n",
       "      <td>72.00</td>\n",
       "      <td>平层</td>\n",
       "      <td>暂无数据</td>\n",
       "      <td>...</td>\n",
       "      <td>暂无数据</td>\n",
       "      <td>普通住宅</td>\n",
       "      <td>暂无数据</td>\n",
       "      <td>非共有</td>\n",
       "      <td>无抵押</td>\n",
       "      <td>未上传房本照片</td>\n",
       "      <td>暂无数据</td>\n",
       "      <td>银滩旅游度假区</td>\n",
       "      <td>6.0</td>\n",
       "      <td>None</td>\n",
       "    </tr>\n",
       "    <tr>\n",
       "      <th>...</th>\n",
       "      <td>...</td>\n",
       "      <td>...</td>\n",
       "      <td>...</td>\n",
       "      <td>...</td>\n",
       "      <td>...</td>\n",
       "      <td>...</td>\n",
       "      <td>...</td>\n",
       "      <td>...</td>\n",
       "      <td>...</td>\n",
       "      <td>...</td>\n",
       "      <td>...</td>\n",
       "      <td>...</td>\n",
       "      <td>...</td>\n",
       "      <td>...</td>\n",
       "      <td>...</td>\n",
       "      <td>...</td>\n",
       "      <td>...</td>\n",
       "      <td>...</td>\n",
       "      <td>...</td>\n",
       "      <td>...</td>\n",
       "      <td>...</td>\n",
       "    </tr>\n",
       "    <tr>\n",
       "      <th>14391</th>\n",
       "      <td>103105474125</td>\n",
       "      <td>凤凰湖B区</td>\n",
       "      <td>荣成市</td>\n",
       "      <td>330000.0</td>\n",
       "      <td>4384.0</td>\n",
       "      <td>2室2厅1厨1卫</td>\n",
       "      <td>低楼层</td>\n",
       "      <td>75.29</td>\n",
       "      <td>平层</td>\n",
       "      <td>暂无数据</td>\n",
       "      <td>...</td>\n",
       "      <td>暂无数据</td>\n",
       "      <td>普通住宅</td>\n",
       "      <td>暂无数据</td>\n",
       "      <td>共有</td>\n",
       "      <td>无抵押</td>\n",
       "      <td>未上传房本照片</td>\n",
       "      <td>暂无数据</td>\n",
       "      <td>石岛</td>\n",
       "      <td>6.0</td>\n",
       "      <td>None</td>\n",
       "    </tr>\n",
       "    <tr>\n",
       "      <th>14392</th>\n",
       "      <td>103105464290</td>\n",
       "      <td>亲海花园</td>\n",
       "      <td>荣成市</td>\n",
       "      <td>520000.0</td>\n",
       "      <td>4643.0</td>\n",
       "      <td>3室1厅1厨1卫</td>\n",
       "      <td>低楼层</td>\n",
       "      <td>112.00</td>\n",
       "      <td>平层</td>\n",
       "      <td>暂无数据</td>\n",
       "      <td>...</td>\n",
       "      <td>暂无数据</td>\n",
       "      <td>普通住宅</td>\n",
       "      <td>暂无数据</td>\n",
       "      <td>非共有</td>\n",
       "      <td>无抵押</td>\n",
       "      <td>未上传房本照片</td>\n",
       "      <td>暂无数据</td>\n",
       "      <td>石岛</td>\n",
       "      <td>7.0</td>\n",
       "      <td>None</td>\n",
       "    </tr>\n",
       "    <tr>\n",
       "      <th>14393</th>\n",
       "      <td>103106765383</td>\n",
       "      <td>瀛海美地</td>\n",
       "      <td>荣成市</td>\n",
       "      <td>380000.0</td>\n",
       "      <td>4176.0</td>\n",
       "      <td>2室1厅1厨1卫</td>\n",
       "      <td>高楼层</td>\n",
       "      <td>91.00</td>\n",
       "      <td>平层</td>\n",
       "      <td>暂无数据</td>\n",
       "      <td>...</td>\n",
       "      <td>暂无数据</td>\n",
       "      <td>普通住宅</td>\n",
       "      <td>暂无数据</td>\n",
       "      <td>共有</td>\n",
       "      <td>无抵押</td>\n",
       "      <td>未上传房本照片</td>\n",
       "      <td>暂无数据</td>\n",
       "      <td>石岛</td>\n",
       "      <td>6.0</td>\n",
       "      <td>None</td>\n",
       "    </tr>\n",
       "    <tr>\n",
       "      <th>14394</th>\n",
       "      <td>103106752170</td>\n",
       "      <td>凤凰湖D区</td>\n",
       "      <td>荣成市</td>\n",
       "      <td>300000.0</td>\n",
       "      <td>3530.0</td>\n",
       "      <td>2室2厅1厨1卫</td>\n",
       "      <td>高楼层</td>\n",
       "      <td>85.00</td>\n",
       "      <td>平层</td>\n",
       "      <td>暂无数据</td>\n",
       "      <td>...</td>\n",
       "      <td>暂无数据</td>\n",
       "      <td>普通住宅</td>\n",
       "      <td>暂无数据</td>\n",
       "      <td>共有</td>\n",
       "      <td>无抵押</td>\n",
       "      <td>未上传房本照片</td>\n",
       "      <td>暂无数据</td>\n",
       "      <td>石岛</td>\n",
       "      <td>7.0</td>\n",
       "      <td>None</td>\n",
       "    </tr>\n",
       "    <tr>\n",
       "      <th>14395</th>\n",
       "      <td>103106739219</td>\n",
       "      <td>碧海桃园</td>\n",
       "      <td>荣成市</td>\n",
       "      <td>340000.0</td>\n",
       "      <td>4928.0</td>\n",
       "      <td>2室1厅1厨1卫</td>\n",
       "      <td>中楼层</td>\n",
       "      <td>69.00</td>\n",
       "      <td>平层</td>\n",
       "      <td>暂无数据</td>\n",
       "      <td>...</td>\n",
       "      <td>暂无数据</td>\n",
       "      <td>普通住宅</td>\n",
       "      <td>暂无数据</td>\n",
       "      <td>非共有</td>\n",
       "      <td>无抵押</td>\n",
       "      <td>未上传房本照片</td>\n",
       "      <td>暂无数据</td>\n",
       "      <td>石岛</td>\n",
       "      <td>7.0</td>\n",
       "      <td>None</td>\n",
       "    </tr>\n",
       "  </tbody>\n",
       "</table>\n",
       "<p>14396 rows × 29 columns</p>\n",
       "</div>"
      ],
      "text/plain": [
       "           house_id  xiaoqu district  total_price  unit_price house_type  \\\n",
       "0      103108554235    富山小区      乳山市     358000.0      4023.0   2室1厅1厨1卫   \n",
       "1      103108538149    海洋明珠      乳山市     108000.0      3244.0   1室0厅1厨1卫   \n",
       "2      103105657894  龙海阳光小区      乳山市     548000.0      4529.0   3室2厅1厨1卫   \n",
       "3      103105816942  爱琴海景西区      乳山市     168000.0      4800.0   1室1厅1厨1卫   \n",
       "4      103105658048    海韵豪庭      乳山市     315000.0      4375.0   2室1厅1厨1卫   \n",
       "...             ...     ...      ...          ...         ...        ...   \n",
       "14391  103105474125   凤凰湖B区      荣成市     330000.0      4384.0   2室2厅1厨1卫   \n",
       "14392  103105464290    亲海花园      荣成市     520000.0      4643.0   3室1厅1厨1卫   \n",
       "14393  103106765383    瀛海美地      荣成市     380000.0      4176.0   2室1厅1厨1卫   \n",
       "14394  103106752170   凤凰湖D区      荣成市     300000.0      3530.0   2室2厅1厨1卫   \n",
       "14395  103106739219    碧海桃园      荣成市     340000.0      4928.0   2室1厅1厨1卫   \n",
       "\n",
       "      floor    area house_struct in_area  ... last_tradetime house_use  \\\n",
       "0       高楼层   89.00           平层    暂无数据  ...           暂无数据      普通住宅   \n",
       "1       低楼层   33.30           平层    暂无数据  ...           暂无数据      普通住宅   \n",
       "2       低楼层  121.00           平层    暂无数据  ...           暂无数据      普通住宅   \n",
       "3       低楼层   35.00           平层    暂无数据  ...           暂无数据      普通住宅   \n",
       "4       低楼层   72.00           平层    暂无数据  ...           暂无数据      普通住宅   \n",
       "...     ...     ...          ...     ...  ...            ...       ...   \n",
       "14391   低楼层   75.29           平层    暂无数据  ...           暂无数据      普通住宅   \n",
       "14392   低楼层  112.00           平层    暂无数据  ...           暂无数据      普通住宅   \n",
       "14393   高楼层   91.00           平层    暂无数据  ...           暂无数据      普通住宅   \n",
       "14394   高楼层   85.00           平层    暂无数据  ...           暂无数据      普通住宅   \n",
       "14395   中楼层   69.00           平层    暂无数据  ...           暂无数据      普通住宅   \n",
       "\n",
       "      house_time owner_attribute mortage property_status villa_type   weizhi  \\\n",
       "0           暂无数据             非共有     无抵押         未上传房本照片       暂无数据      乳山市   \n",
       "1           暂无数据             非共有     无抵押         未上传房本照片       暂无数据  银滩旅游度假区   \n",
       "2           暂无数据             非共有     无抵押         未上传房本照片       暂无数据  银滩旅游度假区   \n",
       "3           暂无数据             非共有     无抵押         未上传房本照片       暂无数据  银滩旅游度假区   \n",
       "4           暂无数据             非共有     无抵押         未上传房本照片       暂无数据  银滩旅游度假区   \n",
       "...          ...             ...     ...             ...        ...      ...   \n",
       "14391       暂无数据              共有     无抵押         未上传房本照片       暂无数据       石岛   \n",
       "14392       暂无数据             非共有     无抵押         未上传房本照片       暂无数据       石岛   \n",
       "14393       暂无数据              共有     无抵押         未上传房本照片       暂无数据       石岛   \n",
       "14394       暂无数据              共有     无抵押         未上传房本照片       暂无数据       石岛   \n",
       "14395       暂无数据             非共有     无抵押         未上传房本照片       暂无数据       石岛   \n",
       "\n",
       "      overall_floor   loc  \n",
       "0               7.0  None  \n",
       "1              26.0  None  \n",
       "2               6.0  None  \n",
       "3              19.0  None  \n",
       "4               6.0  None  \n",
       "...             ...   ...  \n",
       "14391           6.0  None  \n",
       "14392           7.0  None  \n",
       "14393           6.0  None  \n",
       "14394           7.0  None  \n",
       "14395           7.0  None  \n",
       "\n",
       "[14396 rows x 29 columns]"
      ]
     },
     "execution_count": 10,
     "metadata": {},
     "output_type": "execute_result"
    }
   ],
   "source": [
    "df"
   ]
  },
  {
   "cell_type": "code",
   "execution_count": null,
   "metadata": {},
   "outputs": [],
   "source": [
    "df['loc']=df.apply(lambda x:geocodeB(x.district+x.weizhi),axis=1)"
   ]
  },
  {
   "cell_type": "code",
   "execution_count": null,
   "metadata": {},
   "outputs": [],
   "source": [
    "df"
   ]
  },
  {
   "cell_type": "code",
   "execution_count": 22,
   "metadata": {},
   "outputs": [
    {
     "data": {
      "text/plain": [
       "[0.4029133134280569,\n",
       " 0.055897184986760405,\n",
       " 0.08373912840593176,\n",
       " 0.029043765279319123,\n",
       " 0.08141920058948082,\n",
       " 0.09174130474881993,\n",
       " 0.25524610256163094]"
      ]
     },
     "execution_count": 22,
     "metadata": {},
     "output_type": "execute_result"
    }
   ],
   "source": [
    "rf.feature_importances_.tolist()"
   ]
  },
  {
   "cell_type": "code",
   "execution_count": 37,
   "metadata": {},
   "outputs": [],
   "source": [
    "app = JupyterDash('Hello Dash Style')\n",
    "colors = ['#1f77b4','#ff7f0e','#2ca02c','#d62728','#9467bd','#8c574b']\n",
    "t=np.random.randn(20000)\n",
    "app.layout = html.Div(\n",
    "   [\n",
    "       html.Div(\n",
    "            id='pic26',\n",
    "            style={'width': '80%', 'height': '200%', 'padding-left': '10%', 'padding-right': '10%',\n",
    "                   'float': 'left', 'align-items': 'center', 'justify-content': 'center', 'background-color': '#111111'},\n",
    "            children=[\n",
    "                dcc.Graph(\n",
    "                    id='importance',\n",
    "                    style={'height': '70vh'},\n",
    "                    figure=dict(\n",
    "                        data=[go.Bar(\n",
    "                            x=['所在区','户型','面积','装修','有无电梯','小区名称','所在位置'],\n",
    "                            y=rf.feature_importances_,\n",
    "                            marker=dict(colorscale='Viridis', color=t,\n",
    "                                        showscale=True),\n",
    "                            textposition='auto',\n",
    "                            opacity=0.7\n",
    "                        )],\n",
    "\n",
    "                        layout=go.Layout(title='各变量重要性',\n",
    "                                         paper_bgcolor=\"#111111\",\n",
    "                                         plot_bgcolor='#111111',\n",
    "                                         font=dict(\n",
    "                                             family=\"Times New Roman\", size=20, color='#7fdbff'),\n",
    "                                         yaxis=dict(title='重要性指数',\n",
    "                                                    titlefont=dict(\n",
    "                                                        color='rgb(148, 103, 189)', size=24),\n",
    "                                                    tickfont=dict(\n",
    "                                                        color='#7FDBFF', size=24,),\n",
    "                                                    tickwidth=4,\n",
    "                                                    tickcolor='#7FDBFF',\n",
    "                                                    showline=True,\n",
    "                                                    linecolor='#7FDBFF',\n",
    "                                                    linewidth=2,\n",
    "                                                    showticklabels=True,\n",
    "                                                    autorange=True,\n",
    "                                                    type='linear',\n",
    "                                                    ),\n",
    "                                         xaxis=dict(title='变量',\n",
    "                                                    titlefont=dict(\n",
    "                                                        color='rgb(148, 103, 189)', size=24),\n",
    "                                                    showline=True,\n",
    "                                                    linecolor='#7FDBFF',\n",
    "                                                    linewidth=2,\n",
    "                                                    autorange=True\n",
    "                                                    )\n",
    "\n",
    "                                         )\n",
    "\n",
    "                    )\n",
    "                )\n",
    "                \n",
    "            ]\n",
    "\n",
    "        )\n",
    "   ]\n",
    ")\n",
    "\n",
    "\n",
    "\n",
    "    "
   ]
  },
  {
   "cell_type": "code",
   "execution_count": 38,
   "metadata": {},
   "outputs": [
    {
     "data": {
      "text/html": [
       "<div>\n",
       "  <iframe src=\"/app/endpoints/b18bd8ab3e7a4d688b8b3041a2cef448/\" width=800 height=600 frameborder=\"0\"></iframe>\n",
       "  <hr/><a href=\"/app/endpoints/b18bd8ab3e7a4d688b8b3041a2cef448/\" target=\"_new\">Open in new window</a> for /app/endpoints/b18bd8ab3e7a4d688b8b3041a2cef448/\n",
       "</div>"
      ],
      "text/plain": [
       "<jupyter_plotly_dash.dash_wrapper.JupyterDash at 0x2b66b40e5c0>"
      ]
     },
     "execution_count": 38,
     "metadata": {},
     "output_type": "execute_result"
    }
   ],
   "source": [
    "app"
   ]
  },
  {
   "cell_type": "code",
   "execution_count": 31,
   "metadata": {},
   "outputs": [
    {
     "data": {
      "text/plain": [
       "numpy.ndarray"
      ]
     },
     "execution_count": 31,
     "metadata": {},
     "output_type": "execute_result"
    }
   ],
   "source": [
    "type(df['district'].sort_values().unique())"
   ]
  },
  {
   "cell_type": "code",
   "execution_count": 30,
   "metadata": {},
   "outputs": [
    {
     "data": {
      "text/plain": [
       "pandas.core.series.Series"
      ]
     },
     "execution_count": 30,
     "metadata": {},
     "output_type": "execute_result"
    }
   ],
   "source": [
    "type(df['district'].sort_values().value_counts())"
   ]
  },
  {
   "cell_type": "code",
   "execution_count": 36,
   "metadata": {},
   "outputs": [
    {
     "data": {
      "text/plain": [
       "array([0.40291331, 0.05589718, 0.08373913, 0.02904377, 0.0814192 ,\n",
       "       0.0917413 , 0.2552461 ])"
      ]
     },
     "execution_count": 36,
     "metadata": {},
     "output_type": "execute_result"
    }
   ],
   "source": [
    "rf.feature_importances_"
   ]
  },
  {
   "cell_type": "code",
   "execution_count": null,
   "metadata": {},
   "outputs": [],
   "source": []
  }
 ],
 "metadata": {
  "kernelspec": {
   "display_name": "Python 3",
   "language": "python",
   "name": "python3"
  },
  "language_info": {
   "codemirror_mode": {
    "name": "ipython",
    "version": 3
   },
   "file_extension": ".py",
   "mimetype": "text/x-python",
   "name": "python",
   "nbconvert_exporter": "python",
   "pygments_lexer": "ipython3",
   "version": "3.6.7"
  }
 },
 "nbformat": 4,
 "nbformat_minor": 4
}
