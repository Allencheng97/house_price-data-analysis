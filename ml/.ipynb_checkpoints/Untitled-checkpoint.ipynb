{
 "cells": [
  {
   "cell_type": "code",
   "execution_count": 50,
   "metadata": {},
   "outputs": [],
   "source": [
    "import pandas as pd\n",
    "from sklearn.cluster import KMeans\n",
    "import numpy as np"
   ]
  },
  {
   "cell_type": "code",
   "execution_count": 51,
   "metadata": {},
   "outputs": [],
   "source": [
    "records = pd.read_csv('data-utf8-2.csv')\n",
    "df = pd.DataFrame(records)"
   ]
  },
  {
   "cell_type": "code",
   "execution_count": 52,
   "metadata": {},
   "outputs": [],
   "source": [
    "from sklearn import preprocessing\n",
    "from sklearn.model_selection import train_test_split"
   ]
  },
  {
   "cell_type": "code",
   "execution_count": 53,
   "metadata": {},
   "outputs": [],
   "source": [
    "le = preprocessing.LabelEncoder()"
   ]
  },
  {
   "cell_type": "code",
   "execution_count": 54,
   "metadata": {},
   "outputs": [],
   "source": [
    "X1=le.fit(df['district'].unique()).transform(df['district']) #X1表示房屋所在区\n",
    "X2=le.fit(df['house_type'].unique()).transform(df['house_type']) #X2表示房屋的户型"
   ]
  },
  {
   "cell_type": "code",
   "execution_count": 55,
   "metadata": {},
   "outputs": [],
   "source": [
    "X3=df['area']  #X3表示房屋的面积\n",
    "X4=le.fit(df['fixture'].unique()).transform(df['fixture'])"
   ]
  },
  {
   "cell_type": "code",
   "execution_count": 56,
   "metadata": {},
   "outputs": [],
   "source": [
    "X5=le.fit(df['elevator_exist'].unique()).transform(df['elevator_exist']) #X5表示房屋有无电梯\n",
    "X6=le.fit(df['xiaoqu'].unique()).transform(df['xiaoqu']) "
   ]
  },
  {
   "cell_type": "code",
   "execution_count": 57,
   "metadata": {},
   "outputs": [],
   "source": [
    "X=np.mat([X1,X2,X3,X4,X5,X6]).T"
   ]
  },
  {
   "cell_type": "code",
   "execution_count": 58,
   "metadata": {},
   "outputs": [],
   "source": [
    "Y=df['unit_price']"
   ]
  },
  {
   "cell_type": "code",
   "execution_count": 59,
   "metadata": {},
   "outputs": [
    {
     "name": "stdout",
     "output_type": "stream",
     "text": [
      "(14192, 6)\n"
     ]
    }
   ],
   "source": [
    "print (np.array(X).shape)"
   ]
  },
  {
   "cell_type": "code",
   "execution_count": 60,
   "metadata": {},
   "outputs": [
    {
     "data": {
      "text/plain": [
       "matrix([[0.000e+00, 2.000e+00, 3.600e+01, 2.000e+00, 1.000e+00,\n",
       "         9.110e+02],\n",
       "        [0.000e+00, 2.300e+01, 7.200e+01, 3.000e+00, 2.000e+00,\n",
       "         6.380e+02],\n",
       "        [0.000e+00, 2.300e+01, 9.467e+01, 2.000e+00, 0.000e+00,\n",
       "         4.590e+02],\n",
       "        ...,\n",
       "        [1.000e+00, 5.700e+01, 1.950e+02, 1.000e+00, 0.000e+00,\n",
       "         7.150e+02],\n",
       "        [1.000e+00, 3.900e+01, 9.300e+01, 3.000e+00, 1.000e+00,\n",
       "         6.690e+02],\n",
       "        [1.000e+00, 1.800e+01, 8.730e+01, 3.000e+00, 0.000e+00,\n",
       "         1.134e+03]])"
      ]
     },
     "execution_count": 60,
     "metadata": {},
     "output_type": "execute_result"
    }
   ],
   "source": [
    "X"
   ]
  },
  {
   "cell_type": "code",
   "execution_count": 61,
   "metadata": {},
   "outputs": [],
   "source": [
    "X_train,X_test,Y_train,Y_test= train_test_split(X,Y,test_size=0.1, random_state=0)"
   ]
  },
  {
   "cell_type": "code",
   "execution_count": 62,
   "metadata": {},
   "outputs": [
    {
     "data": {
      "text/plain": [
       "0"
      ]
     },
     "execution_count": 62,
     "metadata": {},
     "output_type": "execute_result"
    }
   ],
   "source": [
    "from sklearn.model_selection import RandomizedSearchCV\n",
    "criterion=['mse','mae']\n",
    "n_estimators = [int(x) for x in np.linspace(start = 200, stop = 1200, num = 50)]\n",
    "max_features = ['auto', 'sqrt']\n",
    "max_depth = [int(x) for x in np.linspace(10, 100, num = 10)]\n",
    "max_depth.append(None)\n",
    "min_samples_split = [2, 5, 10]\n",
    "min_samples_leaf = [1, 2, 4]\n",
    "bootstrap = [True, False]\n",
    "random_grid = {'criterion':criterion,\n",
    "                'n_estimators': n_estimators,\n",
    "               'max_features': max_features,\n",
    "               'max_depth': max_depth,\n",
    "               'min_samples_split': min_samples_split,\n",
    "               'min_samples_leaf': min_samples_leaf,\n",
    "               'bootstrap': bootstrap}\n",
    "0"
   ]
  },
  {
   "cell_type": "code",
   "execution_count": 63,
   "metadata": {},
   "outputs": [],
   "source": [
    "from sklearn.ensemble import RandomForestRegressor\n"
   ]
  },
  {
   "cell_type": "code",
   "execution_count": 64,
   "metadata": {},
   "outputs": [],
   "source": [
    "clf= RandomForestRegressor()"
   ]
  },
  {
   "cell_type": "code",
   "execution_count": 65,
   "metadata": {},
   "outputs": [],
   "source": [
    "clf_random = RandomizedSearchCV(estimator=clf, param_distributions=random_grid,\n",
    "                              n_iter = 10,  \n",
    "                              cv = 3, verbose=2, random_state=42, n_jobs=1)\n"
   ]
  },
  {
   "cell_type": "code",
   "execution_count": 66,
   "metadata": {},
   "outputs": [
    {
     "name": "stdout",
     "output_type": "stream",
     "text": [
      "变量重要性： [0.59560939 0.06052365 0.0840958  0.0304186  0.10673143 0.12262112]\n"
     ]
    }
   ],
   "source": [
    "from sklearn.ensemble import RandomForestRegressor\n",
    "from pyecharts.charts.basic_charts import bar\n",
    "\n",
    "#{'n_estimators': 506, 'min_samples_split': 10, 'min_samples_leaf': 4, 'max_features': 'sqrt', 'max_depth': 70, 'criterion': 'mse', 'bootstrap': True}\n",
    "rf=RandomForestRegressor(criterion='mse',bootstrap=True,max_features='sqrt', max_depth=70,min_samples_split=10, n_estimators=506,min_samples_leaf=4)\n",
    "\n",
    "rf.fit(X_train, Y_train) \n",
    "Y_train_pred=rf.predict(X_train)\n",
    "Y_test_pred=rf.predict(X_test)\n",
    "#变量重要性\n",
    "print (\"变量重要性：\",rf.feature_importances_)\n",
    "feature=['所在区','户型','面积','装修','有无电梯','小区名称']\n",
    "\n",
    "\n"
   ]
  },
  {
   "cell_type": "code",
   "execution_count": 91,
   "metadata": {},
   "outputs": [],
   "source": [
    "ak='gmWGXazzhusjfBhAXCWX99hRsuf681GC'"
   ]
  },
  {
   "cell_type": "code",
   "execution_count": 107,
   "metadata": {},
   "outputs": [],
   "source": [
    "import requests\n",
    "def geocodeB(address):\n",
    "    \"\"\"\n",
    "    @ address: 名称字符串\n",
    "    @ 返回值：经度，纬度\n",
    "    \"\"\"\n",
    "    address='山东省威海市'+address\n",
    "    base_url = \"http://api.map.baidu.com/geocoder?address={address}&output=json&key=gmWGXazzhusjfBhAXCWX99hRsuf681GC\".format(address=address)\n",
    "    response = requests.get(base_url)\n",
    "    answer = response.json()\n",
    "    latitude = answer['result']['location']['lng']\n",
    "    longitude = answer['result']['location']['lat']\n",
    "\n",
    "    return latitude, longitude"
   ]
  },
  {
   "cell_type": "code",
   "execution_count": 111,
   "metadata": {},
   "outputs": [
    {
     "data": {
      "text/plain": [
       "(116.413384, 39.910925)"
      ]
     },
     "execution_count": 111,
     "metadata": {},
     "output_type": "execute_result"
    }
   ],
   "source": [
    "geocodeB('')"
   ]
  },
  {
   "cell_type": "code",
   "execution_count": null,
   "metadata": {},
   "outputs": [],
   "source": []
  }
 ],
 "metadata": {
  "kernelspec": {
   "display_name": "Python 3",
   "language": "python",
   "name": "python3"
  },
  "language_info": {
   "codemirror_mode": {
    "name": "ipython",
    "version": 3
   },
   "file_extension": ".py",
   "mimetype": "text/x-python",
   "name": "python",
   "nbconvert_exporter": "python",
   "pygments_lexer": "ipython3",
   "version": "3.6.7"
  }
 },
 "nbformat": 4,
 "nbformat_minor": 4
}
