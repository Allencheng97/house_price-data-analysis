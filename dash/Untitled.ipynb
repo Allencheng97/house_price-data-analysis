{
 "cells": [
  {
   "cell_type": "code",
   "execution_count": 4,
   "metadata": {},
   "outputs": [],
   "source": [
    "import pandas as pd\n",
    "import plotly.graph_objs as go\n",
    "import dash\n",
    "import dash_core_components as dcc                  # 交互式组件\n",
    "import dash_html_components as html                 # 代码转html\n",
    "from dash.dependencies import Input, Output         # 回调\n",
    "from jupyter_plotly_dash import JupyterDash         # Jupyter中的Dash，如有疑问，见系列文章第2篇【安装】"
   ]
  },
  {
   "cell_type": "code",
   "execution_count": 9,
   "metadata": {},
   "outputs": [],
   "source": [
    "app = JupyterDash('Hello Dash Style')\n",
    "colors = dict(background = '#111111', text = '#7FDBFF')\n",
    "\n",
    "app.layout = html.Div(\n",
    "   [\n",
    "       dcc.Slider(\n",
    "           id='slider1',\n",
    "           min=0,\n",
    "           max=10,\n",
    "           value=0,\n",
    "           step=1\n",
    "       ),\n",
    "       html.Div(id='number'),\n",
    "       html.H3(children='威海房产高频词',\n",
    "               style = dict(textAlign = 'center', color = 'black')),\n",
    "       html.Img(id='wordcloud_img',src='https://s1.ax1x.com/2020/04/17/JEKHde.md.jpg')\n",
    "   ]\n",
    ")\n",
    "@app.callback(\n",
    "    Output(component_id='number',component_property='children'),\n",
    "    [Input(component_id='slider1',component_property='value')]\n",
    ")\n",
    "\n",
    "def update_value(input_value):\n",
    "    return '你输入了\"{}\"'.format(input_value)"
   ]
  },
  {
   "cell_type": "code",
   "execution_count": 1,
   "metadata": {
    "scrolled": true
   },
   "outputs": [
    {
     "ename": "NameError",
     "evalue": "name 'JupyterDash' is not defined",
     "output_type": "error",
     "traceback": [
      "\u001b[1;31m---------------------------------------------------------------------------\u001b[0m",
      "\u001b[1;31mNameError\u001b[0m                                 Traceback (most recent call last)",
      "\u001b[1;32m<ipython-input-1-b7e08b0ca520>\u001b[0m in \u001b[0;36m<module>\u001b[1;34m\u001b[0m\n\u001b[1;32m----> 1\u001b[1;33m \u001b[0mapp\u001b[0m \u001b[1;33m=\u001b[0m \u001b[0mJupyterDash\u001b[0m\u001b[1;33m(\u001b[0m\u001b[1;34m'Dash Layout'\u001b[0m\u001b[1;33m)\u001b[0m\u001b[1;33m\u001b[0m\u001b[1;33m\u001b[0m\u001b[0m\n\u001b[0m\u001b[0;32m      2\u001b[0m \u001b[1;33m\u001b[0m\u001b[0m\n\u001b[0;32m      3\u001b[0m app.layout = html.Div([\n\u001b[0;32m      4\u001b[0m     \u001b[0mdcc\u001b[0m\u001b[1;33m.\u001b[0m\u001b[0mInput\u001b[0m\u001b[1;33m(\u001b[0m\u001b[0mid\u001b[0m \u001b[1;33m=\u001b[0m \u001b[1;34m'my-id'\u001b[0m\u001b[1;33m,\u001b[0m \u001b[0mvalue\u001b[0m \u001b[1;33m=\u001b[0m \u001b[1;34m'初始值'\u001b[0m\u001b[1;33m,\u001b[0m \u001b[0mtype\u001b[0m \u001b[1;33m=\u001b[0m \u001b[1;34m'text'\u001b[0m\u001b[1;33m)\u001b[0m\u001b[1;33m,\u001b[0m\u001b[1;33m\u001b[0m\u001b[1;33m\u001b[0m\u001b[0m\n\u001b[0;32m      5\u001b[0m     \u001b[0mhtml\u001b[0m\u001b[1;33m.\u001b[0m\u001b[0mDiv\u001b[0m\u001b[1;33m(\u001b[0m\u001b[0mid\u001b[0m \u001b[1;33m=\u001b[0m \u001b[1;34m'my-div'\u001b[0m\u001b[1;33m)\u001b[0m\u001b[1;33m\u001b[0m\u001b[1;33m\u001b[0m\u001b[0m\n",
      "\u001b[1;31mNameError\u001b[0m: name 'JupyterDash' is not defined"
     ]
    }
   ],
   "source": [
    "app = JupyterDash('Dash Layout')\n",
    "\n",
    "app.layout = html.Div([\n",
    "    dcc.Input(id = 'my-id', value = '初始值', type = 'text'),\n",
    "    html.Div(id = 'my-div')\n",
    "])\n",
    "\n",
    "@app.callback(\n",
    "    Output(component_id = 'my-div', component_property = 'children'),\n",
    "    [Input(component_id = 'my-id', component_property = 'value')]\n",
    ")\n",
    "\n",
    "def update_output_div(input_value):\n",
    "    return '你输入了\"{}\"'.format(input_value)"
   ]
  },
  {
   "cell_type": "code",
   "execution_count": 10,
   "metadata": {},
   "outputs": [
    {
     "data": {
      "text/html": [
       "<div>\n",
       "  <iframe src=\"/app/endpoints/967acdcd09cd4086b772d16eac865419/\" width=800 height=600 frameborder=\"0\"></iframe>\n",
       "  <hr/><a href=\"/app/endpoints/967acdcd09cd4086b772d16eac865419/\" target=\"_new\">Open in new window</a> for /app/endpoints/967acdcd09cd4086b772d16eac865419/\n",
       "</div>"
      ],
      "text/plain": [
       "<jupyter_plotly_dash.dash_wrapper.JupyterDash at 0x2251a607dd8>"
      ]
     },
     "execution_count": 10,
     "metadata": {},
     "output_type": "execute_result"
    }
   ],
   "source": [
    "app"
   ]
  },
  {
   "cell_type": "code",
   "execution_count": null,
   "metadata": {},
   "outputs": [],
   "source": []
  }
 ],
 "metadata": {
  "kernelspec": {
   "display_name": "Python 3",
   "language": "python",
   "name": "python3"
  },
  "language_info": {
   "codemirror_mode": {
    "name": "ipython",
    "version": 3
   },
   "file_extension": ".py",
   "mimetype": "text/x-python",
   "name": "python",
   "nbconvert_exporter": "python",
   "pygments_lexer": "ipython3",
   "version": "3.6.7"
  }
 },
 "nbformat": 4,
 "nbformat_minor": 4
}
