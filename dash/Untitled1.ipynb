{
 "cells": [
  {
   "cell_type": "code",
   "execution_count": 1,
   "metadata": {},
   "outputs": [],
   "source": [
    "import pandas as pd\n",
    "import plotly.graph_objs as go\n",
    "import dash\n",
    "import dash_core_components as dcc                  # 交互式组件\n",
    "import dash_html_components as html                 # 代码转html\n",
    "from dash.dependencies import Input, Output         # 回调\n",
    "from jupyter_plotly_dash import JupyterDash         "
   ]
  },
  {
   "cell_type": "code",
   "execution_count": 2,
   "metadata": {},
   "outputs": [],
   "source": [
    "records=pd.read_csv('data-utf8.csv')\n",
    "df = pd.DataFrame(records)\n",
    "df.drop(['id'],axis=1)\n",
    "#各区平均面积\n",
    "groups_area_jzmj = df['area'].groupby(df['district'])\n",
    "mean_area = groups_area_jzmj.mean()\n",
    "#各区平均单价\n",
    "groups_area_unitprice=df['unit_price'].groupby(df['district'])\n",
    "mean_unitprice=groups_area_unitprice.mean()\n",
    "#各区单价箱线图\n",
    "box_unitprice_district=df['unit_price'].groupby(df['district'])\n",
    "box_data_u = pd.DataFrame(list(range(14000)),columns=[\"start\"])\n",
    "for district,price in box_unitprice_district:\n",
    "    box_data_u[district]=price\n",
    "del box_data_u['start']\n",
    "#各区总价箱线图\n",
    "box_totalprice_district=df['total_price'].groupby(df['district'])\n",
    "box_data_t = pd.DataFrame(list(range(14000)),columns=[\"start\"])\n",
    "for district,price in box_totalprice_district:\n",
    "    box_data_t[district]=price\n",
    "del box_data_t['start']\n",
    "#面积分布\n",
    "area_level = [0, 50, 100, 150, 200, 250, 300, 500,1000]    \n",
    "label_level = ['0-50', '50-100', '100-150', '150-200', '200-250', '250-300', '300-500','500-1000']    \n",
    "area_cut = pd.cut(df['area'], area_level, labels=label_level)        \n",
    "area_result = area_cut.value_counts()"
   ]
  },
  {
   "cell_type": "code",
   "execution_count": 3,
   "metadata": {},
   "outputs": [],
   "source": [
    "fixture_unitprice=df['unit_price'].groupby(df['fixture'])"
   ]
  },
  {
   "cell_type": "code",
   "execution_count": 4,
   "metadata": {},
   "outputs": [
    {
     "data": {
      "text/plain": [
       "<pandas.core.groupby.generic.SeriesGroupBy object at 0x00000206DF867358>"
      ]
     },
     "execution_count": 4,
     "metadata": {},
     "output_type": "execute_result"
    }
   ],
   "source": [
    "fixture_unitprice"
   ]
  },
  {
   "cell_type": "code",
   "execution_count": 5,
   "metadata": {},
   "outputs": [
    {
     "data": {
      "text/plain": [
       "fixture\n",
       "其他    [4334.0, 4186.0, 3412.0, 3567.0, 2094.0, 1782....\n",
       "毛坯    [4091.0, 2581.0, 1587.0, 5707.0, 17709.0, 1361...\n",
       "简装    [3215.0, 2758.0, 4023.0, 3986.0, 3824.0, 6359....\n",
       "精装    [3735.0, 4250.0, 5879.0, 2411.0, 5375.0, 4506....\n",
       "Name: unit_price, dtype: object"
      ]
     },
     "execution_count": 5,
     "metadata": {},
     "output_type": "execute_result"
    }
   ],
   "source": [
    "fixture_unitprice.unique()"
   ]
  },
  {
   "cell_type": "code",
   "execution_count": 6,
   "metadata": {},
   "outputs": [
    {
     "data": {
      "text/plain": [
       "fixture\n",
       "其他    8433.016300\n",
       "毛坯    9258.917085\n",
       "简装    8633.134400\n",
       "精装    9093.700985\n",
       "Name: unit_price, dtype: float64"
      ]
     },
     "execution_count": 6,
     "metadata": {},
     "output_type": "execute_result"
    }
   ],
   "source": [
    "fixture_unitprice.mean()"
   ]
  },
  {
   "cell_type": "code",
   "execution_count": 7,
   "metadata": {},
   "outputs": [
    {
     "data": {
      "text/plain": [
       "Index(['其他', '毛坯', '简装', '精装'], dtype='object', name='fixture')"
      ]
     },
     "execution_count": 7,
     "metadata": {},
     "output_type": "execute_result"
    }
   ],
   "source": [
    "fixture_unitprice.mean().keys()"
   ]
  },
  {
   "cell_type": "code",
   "execution_count": 8,
   "metadata": {},
   "outputs": [],
   "source": [
    "ele_unitprice=df['unit_price'].groupby(df['elevator_exist'])"
   ]
  },
  {
   "cell_type": "code",
   "execution_count": 9,
   "metadata": {},
   "outputs": [
    {
     "data": {
      "text/plain": [
       "elevator_exist\n",
       "无        7616.834306\n",
       "暂无数据     8787.160508\n",
       "有       11184.970669\n",
       "Name: unit_price, dtype: float64"
      ]
     },
     "execution_count": 9,
     "metadata": {},
     "output_type": "execute_result"
    }
   ],
   "source": [
    "ele_unitprice.mean()"
   ]
  },
  {
   "cell_type": "code",
   "execution_count": null,
   "metadata": {},
   "outputs": [],
   "source": []
  }
 ],
 "metadata": {
  "kernelspec": {
   "display_name": "Python 3",
   "language": "python",
   "name": "python3"
  },
  "language_info": {
   "codemirror_mode": {
    "name": "ipython",
    "version": 3
   },
   "file_extension": ".py",
   "mimetype": "text/x-python",
   "name": "python",
   "nbconvert_exporter": "python",
   "pygments_lexer": "ipython3",
   "version": "3.6.7"
  }
 },
 "nbformat": 4,
 "nbformat_minor": 4
}
