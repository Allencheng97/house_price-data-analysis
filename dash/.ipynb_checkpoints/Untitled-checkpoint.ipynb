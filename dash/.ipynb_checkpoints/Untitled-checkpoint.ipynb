{
 "cells": [
  {
   "cell_type": "code",
   "execution_count": 46,
   "metadata": {},
   "outputs": [],
   "source": [
    "import pandas as pd\n",
    "import plotly.graph_objs as go\n",
    "import dash\n",
    "import dash_core_components as dcc                  # 交互式组件\n",
    "import dash_html_components as html                 # 代码转html\n",
    "from dash.dependencies import Input, Output         # 回调\n",
    "from jupyter_plotly_dash import JupyterDash         # Jupyter中的Dash，如有疑问，见系列文章第2篇【安装】"
   ]
  },
  {
   "cell_type": "code",
   "execution_count": 101,
   "metadata": {},
   "outputs": [],
   "source": [
    "app = JupyterDash('Hello Dash Style')\n",
    "colors = dict(background = '#111111', text = '#7FDBFF')\n",
    "\n",
    "app.layout = html.Div(\n",
    "   [\n",
    "       dcc.Slider(\n",
    "           id='slider1',\n",
    "           min=0,\n",
    "           max=10,\n",
    "           value=0,\n",
    "           step=1\n",
    "       ),\n",
    "       html.Div(id='number')\n",
    "   ]\n",
    ")\n",
    "@app.callback(\n",
    "    Output(component_id='number',component_property='children'),\n",
    "    [Input(component_id='slider1',component_property='value')]\n",
    ")\n",
    "def update_value(input_value):\n",
    "    return '你输入了\"{}\"'.format(input_value)"
   ]
  },
  {
   "cell_type": "code",
   "execution_count": 97,
   "metadata": {
    "scrolled": true
   },
   "outputs": [],
   "source": [
    "app = JupyterDash('Dash Layout')\n",
    "\n",
    "app.layout = html.Div([\n",
    "    dcc.Input(id = 'my-id', value = '初始值', type = 'text'),\n",
    "    html.Div(id = 'my-div')\n",
    "])\n",
    "\n",
    "@app.callback(\n",
    "    Output(component_id = 'my-div', component_property = 'children'),\n",
    "    [Input(component_id = 'my-id', component_property = 'value')]\n",
    ")\n",
    "\n",
    "def update_output_div(input_value):\n",
    "    return '你输入了\"{}\"'.format(input_value)"
   ]
  },
  {
   "cell_type": "code",
   "execution_count": 102,
   "metadata": {},
   "outputs": [
    {
     "data": {
      "text/html": [
       "<div>\n",
       "  <iframe src=\"/app/endpoints/52ad11f18bd34ca9898f3ce0b841c1f1/\" width=800 height=600 frameborder=\"0\"></iframe>\n",
       "  <hr/><a href=\"/app/endpoints/52ad11f18bd34ca9898f3ce0b841c1f1/\" target=\"_new\">Open in new window</a> for /app/endpoints/52ad11f18bd34ca9898f3ce0b841c1f1/\n",
       "</div>"
      ],
      "text/plain": [
       "<jupyter_plotly_dash.dash_wrapper.JupyterDash at 0x26573e45ba8>"
      ]
     },
     "execution_count": 102,
     "metadata": {},
     "output_type": "execute_result"
    }
   ],
   "source": [
    "app"
   ]
  },
  {
   "cell_type": "code",
   "execution_count": null,
   "metadata": {},
   "outputs": [],
   "source": []
  }
 ],
 "metadata": {
  "kernelspec": {
   "display_name": "Python 3",
   "language": "python",
   "name": "python3"
  },
  "language_info": {
   "codemirror_mode": {
    "name": "ipython",
    "version": 3
   },
   "file_extension": ".py",
   "mimetype": "text/x-python",
   "name": "python",
   "nbconvert_exporter": "python",
   "pygments_lexer": "ipython3",
   "version": "3.6.7"
  }
 },
 "nbformat": 4,
 "nbformat_minor": 4
}
